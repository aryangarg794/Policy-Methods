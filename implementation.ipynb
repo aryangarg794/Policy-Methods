{
 "cells": [
  {
   "cell_type": "code",
   "execution_count": 1,
   "metadata": {},
   "outputs": [
    {
     "data": {
      "text/plain": [
       "'cuda'"
      ]
     },
     "execution_count": 1,
     "metadata": {},
     "output_type": "execute_result"
    }
   ],
   "source": [
    "import os\n",
    "import torch \n",
    "import torch.nn as nn\n",
    "import matplotlib.pyplot as plt\n",
    "import numpy as np\n",
    "import gymnasium as gym\n",
    "from torch.distributions.categorical import Categorical\n",
    "from datetime import datetime\n",
    "\n",
    "\n",
    "device = 'cuda' if torch.cuda.is_available() else 'cpu'\n",
    "device"
   ]
  },
  {
   "cell_type": "code",
   "execution_count": 6,
   "metadata": {},
   "outputs": [],
   "source": [
    "from collections import deque\n",
    "\n",
    "class RollingAverage:\n",
    "    def __init__(self, window_size):\n",
    "        self.window = deque(maxlen=window_size)\n",
    "        self.averages = []\n",
    "\n",
    "    def update(self, value):\n",
    "        self.window.append(value)\n",
    "        self.averages.append(self.get_average)\n",
    "\n",
    "    @property\n",
    "    def get_average(self):\n",
    "        return sum(self.window) / len(self.window) if self.window else 0.0"
   ]
  },
  {
   "cell_type": "markdown",
   "metadata": {},
   "source": [
    "## REINFORCE"
   ]
  },
  {
   "cell_type": "code",
   "execution_count": null,
   "metadata": {},
   "outputs": [],
   "source": [
    "class PolicyGradient(nn.Module):\n",
    "    \n",
    "    def __init__(\n",
    "        self,\n",
    "        environ: gym.Env, \n",
    "        input_shape: int, \n",
    "        game_name: str, \n",
    "        hidden_layers: list = [64],\n",
    "        gamma: float = 0.99,\n",
    "        device: str = 'cpu',\n",
    "        learning_rate: float = 0.01,\n",
    "        max_grad: float = 1.5, \n",
    "        *args,\n",
    "        **kwargs\n",
    "    ) -> None:\n",
    "        super().__init__(*args, **kwargs)\n",
    "        \n",
    "        self._agent_name = 'REINFORCE'\n",
    "        self.device = device\n",
    "        self.input_shape = input_shape\n",
    "        self.env = environ\n",
    "        self.gamma = gamma\n",
    "        self.game_name = game_name\n",
    "        self.max_grad = max_grad\n",
    "        \n",
    "        self.layers = nn.Sequential(\n",
    "            nn.Linear(input_shape, hidden_layers[0]), \n",
    "            nn.ReLU()\n",
    "        )\n",
    "        \n",
    "        for i in range(1, len(hidden_layers)):\n",
    "            self.layers.append(nn.Linear(hidden_layers[i-1], hidden_layers[i]))\n",
    "            self.layers.append(nn.ReLU())\n",
    "            \n",
    "        self.layers.append(nn.Linear(hidden_layers[-1], environ.action_space.n))\n",
    "        \n",
    "        self.optimizer = torch.optim.Adam(self.parameters(), lr=learning_rate)\n",
    "    \n",
    "    def forward(\n",
    "        self, \n",
    "        x: torch.tensor\n",
    "    ) -> torch.tensor:\n",
    "        x = x.flatten(start_dim=1) if len(x.shape) > 1 else x.flatten()\n",
    "        return self.layers(x)\n",
    "    \n",
    "    def select_action(\n",
    "        self, \n",
    "        state: np.ndarray\n",
    "    ) -> np.int64:\n",
    "        state = torch.as_tensor(state, dtype=torch.float32, device=self.device)\n",
    "        with torch.no_grad():\n",
    "            action_logits = self(state)\n",
    "        \n",
    "        distribution = Categorical(logits=action_logits)\n",
    "        action = distribution.sample()\n",
    "        return int(action.item())\n",
    "    \n",
    "    def get_return(\n",
    "        self, \n",
    "        rewards: list,\n",
    "    ) -> float:\n",
    "        G = 0\n",
    "        returns = []\n",
    "        for reward in reversed(rewards):\n",
    "            G = reward + self.gamma * G\n",
    "            returns.insert(0, G)  \n",
    "        return returns\n",
    "\n",
    "    \n",
    "    def get_action_probs(\n",
    "        self, \n",
    "        states: torch.tensor,\n",
    "        actions: torch.tensor\n",
    "    ) -> torch.tensor:\n",
    "        logits = self(states)\n",
    "        distribution = Categorical(logits=logits)\n",
    "        return distribution.log_prob(actions)\n",
    "    \n",
    "    def update_step(\n",
    "        self, \n",
    "        states: list,\n",
    "        actions: list,\n",
    "        returns: list\n",
    "    ) -> None:\n",
    "        \n",
    "        states_torch = torch.as_tensor(np.array(states), dtype=torch.float32, device=self.device).view(-1, self.input_shape)\n",
    "        actions_torch = torch.as_tensor(actions, dtype=torch.int64, device=self.device).view(-1, 1)\n",
    "        returns_torch = torch.as_tensor(np.array(returns), dtype=torch.float32, device=self.device).view(-1, 1)\n",
    "        \n",
    "        action_probs = self.get_action_probs(states_torch, actions_torch)\n",
    "        loss = -(action_probs * returns_torch).sum()\n",
    "        \n",
    "        self.optimizer.zero_grad()\n",
    "        loss.backward()\n",
    "        torch.nn.utils.clip_grad_norm_(self.parameters(), max_norm=self.max_grad)\n",
    "        self.optimizer.step()\n",
    "        \n",
    "    def train(\n",
    "        self,\n",
    "        num_eps: int = 200,\n",
    "        save=False\n",
    "    ) -> list:\n",
    "        average_rewards = RollingAverage(20)\n",
    "        buffer = {'states': [], 'actions': [], 'rewards' : []}\n",
    "        \n",
    "        def update_buffer(state, action, reward):\n",
    "            buffer['states'].append(state)\n",
    "            buffer['actions'].append(action)\n",
    "            buffer['rewards'].append(reward)\n",
    "        \n",
    "        def reset_buffer():\n",
    "            return {'states': [], 'actions': [], 'rewards' : []}\n",
    "        \n",
    "        for step in range(num_eps):\n",
    "            obs, _ = self.env.reset()\n",
    "            done = False\n",
    "            while not done:\n",
    "                action = self.select_action(obs)\n",
    "                obs_prime, reward, terminated, truncated, _ = self.env.step(action)     \n",
    "                update_buffer(obs, action, reward)\n",
    "                \n",
    "                obs = obs_prime\n",
    "                done = terminated or truncated\n",
    "        \n",
    "            average_rewards.update(float(np.sum(buffer['rewards'])))\n",
    "            print(f'Episode: {step+1} | Avg Reward: {average_rewards.get_average:.4f}', end='\\r')\n",
    "            \n",
    "            returns = self.get_return(buffer['rewards'])\n",
    "            \n",
    "            self.update_step(buffer['states'], buffer['actions'], returns)\n",
    "            \n",
    "            buffer = reset_buffer()\n",
    "        \n",
    "        if save:\n",
    "            torch.save(self.state_dict(), f'models/{self._agent_name}_{self.game_name.upper()}_{datetime.now().strftime('%Y-%m-%d_%H-%M-%S')}')\n",
    "        \n",
    "        return average_rewards"
   ]
  },
  {
   "cell_type": "code",
   "execution_count": null,
   "metadata": {},
   "outputs": [
    {
     "name": "stdout",
     "output_type": "stream",
     "text": [
      "Episode: 500 | Avg Reward: 167.9\r"
     ]
    }
   ],
   "source": [
    "env = gym.make('CartPole-v1')\n",
    "policy_cartpole = PolicyGradient(env, 4, 'cartpole', hidden_layers=[256], learning_rate=0.001, device=device).to(device)\n",
    "\n",
    "avg_rewards = policy_cartpole.train(num_eps=500, save=True)"
   ]
  },
  {
   "cell_type": "code",
   "execution_count": 205,
   "metadata": {},
   "outputs": [
    {
     "data": {
      "image/png": "[encoded data removed]",
      "text/plain": [
       "<Figure size 640x480 with 1 Axes>"
      ]
     },
     "metadata": {},
     "output_type": "display_data"
    }
   ],
   "source": [
    "plt.style.use('ggplot')\n",
    "plt.plot(range(len(avg_rewards.averages)), avg_rewards.averages, label='Average Reward')\n",
    "plt.xlabel('Episode')\n",
    "plt.ylabel('Cumm. Reward')\n",
    "plt.title('CartPole REINFORCE');"
   ]
  },
  {
   "cell_type": "markdown",
   "metadata": {},
   "source": [
    "## Q Actor Critic"
   ]
  },
  {
   "cell_type": "code",
   "execution_count": null,
   "metadata": {},
   "outputs": [],
   "source": [
    "class QActorCritic(nn.Module):\n",
    "    \n",
    "    def __init__(\n",
    "        self, \n",
    "        *args, \n",
    "        **kwargs\n",
    "    ) -> None:\n",
    "        super().__init__(*args, **kwargs)"
   ]
  }
 ],
 "metadata": {
  "kernelspec": {
   "display_name": ".venv",
   "language": "python",
   "name": "python3"
  },
  "language_info": {
   "codemirror_mode": {
    "name": "ipython",
    "version": 3
   },
   "file_extension": ".py",
   "mimetype": "text/x-python",
   "name": "python",
   "nbconvert_exporter": "python",
   "pygments_lexer": "ipython3",
   "version": "3.12.5"
  }
 },
 "nbformat": 4,
 "nbformat_minor": 2
}
